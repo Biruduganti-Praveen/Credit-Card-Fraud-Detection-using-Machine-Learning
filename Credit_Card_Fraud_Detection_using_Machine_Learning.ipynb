{
  "nbformat": 4,
  "nbformat_minor": 0,
  "metadata": {
    "colab": {
      "name": "Credit Card Fraud Detection using Machine Learning.ipynb",
      "provenance": [],
      "collapsed_sections": [
        "UMFKUO4_lCu_",
        "bEZH_DhLinPD",
        "MJ8ZcXlmApwt",
        "YtoHr4dEApwx",
        "_LIKveKlApwz",
        "7n3HFjusApw0",
        "_szmM0UQ8ny8",
        "ACYJg6kut3K-"
      ]
    },
    "kernelspec": {
      "display_name": "Python 3",
      "language": "python",
      "name": "python3"
    },
    "language_info": {
      "codemirror_mode": {
        "name": "ipython",
        "version": 3
      },
      "file_extension": ".py",
      "mimetype": "text/x-python",
      "name": "python",
      "nbconvert_exporter": "python",
      "pygments_lexer": "ipython3",
      "version": "3.8.2"
    }
  },
  "cells": [
    {
      "cell_type": "code",
      "metadata": {
        "id": "j1ehG3kBinO6"
      },
      "source": [
        "import pandas as pd\n",
        "import matplotlib.pyplot as plt\n",
        "import seaborn as sns\n",
        "import numpy as np\n",
        "import math\n",
        "import warnings\n",
        "import joblib\n",
        "\n",
        "from sklearn import metrics\n",
        "from sklearn.metrics import confusion_matrix, classification_report\n",
        "from sklearn.metrics import  plot_precision_recall_curve\n",
        "from sklearn.metrics import roc_auc_score,roc_curve\n",
        "from sklearn.metrics import auc\n",
        "from sklearn.metrics import precision_recall_curve\n",
        "\n",
        "from sklearn.linear_model import LogisticRegression\n",
        "from sklearn import naive_bayes as nb\n",
        "from sklearn.neighbors import KNeighborsClassifier\n",
        "from sklearn.linear_model import SGDClassifier\n",
        "from sklearn.model_selection import GridSearchCV\n",
        "\n",
        "warnings.filterwarnings(\"ignore\")"
      ],
      "execution_count": 1,
      "outputs": []
    },
    {
      "cell_type": "code",
      "metadata": {
        "id": "6qcTMzdLkGRS",
        "colab": {
          "base_uri": "https://localhost:8080/"
        },
        "outputId": "09723399-d360-4420-de3a-72b7c2cfc135"
      },
      "source": [
        "from google.colab import drive\n",
        "drive.mount(\"/content/gdrive\")\n"
      ],
      "execution_count": 2,
      "outputs": [
        {
          "output_type": "stream",
          "text": [
            "Mounted at /content/gdrive\n"
          ],
          "name": "stdout"
        }
      ]
    },
    {
      "cell_type": "markdown",
      "metadata": {
        "id": "UMFKUO4_lCu_"
      },
      "source": [
        "# PRE-PROCESSING"
      ]
    },
    {
      "cell_type": "code",
      "metadata": {
        "id": "MJHZJvBminPA",
        "colab": {
          "base_uri": "https://localhost:8080/"
        },
        "outputId": "4146a9fb-bd9c-476c-96ca-cf732ec8c957"
      },
      "source": [
        "DataFrame = pd.read_csv(\"/content/gdrive/My Drive/Credit Card Fraud Detection/Dataset/3 2019- ccFraud.csv\")\n",
        "df = DataFrame.copy()\n",
        "df.shape \n",
        "# no null values"
      ],
      "execution_count": 3,
      "outputs": [
        {
          "output_type": "execute_result",
          "data": {
            "text/plain": [
              "(10000000, 9)"
            ]
          },
          "metadata": {
            "tags": []
          },
          "execution_count": 3
        }
      ]
    },
    {
      "cell_type": "code",
      "metadata": {
        "id": "oeDEM9NoinPB",
        "colab": {
          "base_uri": "https://localhost:8080/",
          "height": 202
        },
        "outputId": "d2cece67-1516-4dbb-c670-92fb4292b5e9"
      },
      "source": [
        "df.head()"
      ],
      "execution_count": 4,
      "outputs": [
        {
          "output_type": "execute_result",
          "data": {
            "text/html": [
              "<div>\n",
              "<style scoped>\n",
              "    .dataframe tbody tr th:only-of-type {\n",
              "        vertical-align: middle;\n",
              "    }\n",
              "\n",
              "    .dataframe tbody tr th {\n",
              "        vertical-align: top;\n",
              "    }\n",
              "\n",
              "    .dataframe thead th {\n",
              "        text-align: right;\n",
              "    }\n",
              "</style>\n",
              "<table border=\"1\" class=\"dataframe\">\n",
              "  <thead>\n",
              "    <tr style=\"text-align: right;\">\n",
              "      <th></th>\n",
              "      <th>custID</th>\n",
              "      <th>gender</th>\n",
              "      <th>state</th>\n",
              "      <th>cardholder</th>\n",
              "      <th>balance</th>\n",
              "      <th>numTrans</th>\n",
              "      <th>numIntlTrans</th>\n",
              "      <th>creditLine</th>\n",
              "      <th>fraudRisk</th>\n",
              "    </tr>\n",
              "  </thead>\n",
              "  <tbody>\n",
              "    <tr>\n",
              "      <th>0</th>\n",
              "      <td>1</td>\n",
              "      <td>1</td>\n",
              "      <td>35</td>\n",
              "      <td>1</td>\n",
              "      <td>3000</td>\n",
              "      <td>4</td>\n",
              "      <td>14</td>\n",
              "      <td>2</td>\n",
              "      <td>0</td>\n",
              "    </tr>\n",
              "    <tr>\n",
              "      <th>1</th>\n",
              "      <td>2</td>\n",
              "      <td>2</td>\n",
              "      <td>2</td>\n",
              "      <td>1</td>\n",
              "      <td>0</td>\n",
              "      <td>9</td>\n",
              "      <td>0</td>\n",
              "      <td>18</td>\n",
              "      <td>0</td>\n",
              "    </tr>\n",
              "    <tr>\n",
              "      <th>2</th>\n",
              "      <td>3</td>\n",
              "      <td>2</td>\n",
              "      <td>2</td>\n",
              "      <td>1</td>\n",
              "      <td>0</td>\n",
              "      <td>27</td>\n",
              "      <td>9</td>\n",
              "      <td>16</td>\n",
              "      <td>0</td>\n",
              "    </tr>\n",
              "    <tr>\n",
              "      <th>3</th>\n",
              "      <td>4</td>\n",
              "      <td>1</td>\n",
              "      <td>15</td>\n",
              "      <td>1</td>\n",
              "      <td>0</td>\n",
              "      <td>12</td>\n",
              "      <td>0</td>\n",
              "      <td>5</td>\n",
              "      <td>0</td>\n",
              "    </tr>\n",
              "    <tr>\n",
              "      <th>4</th>\n",
              "      <td>5</td>\n",
              "      <td>1</td>\n",
              "      <td>46</td>\n",
              "      <td>1</td>\n",
              "      <td>0</td>\n",
              "      <td>11</td>\n",
              "      <td>16</td>\n",
              "      <td>7</td>\n",
              "      <td>0</td>\n",
              "    </tr>\n",
              "  </tbody>\n",
              "</table>\n",
              "</div>"
            ],
            "text/plain": [
              "   custID  gender  state  ...  numIntlTrans  creditLine  fraudRisk\n",
              "0       1       1     35  ...            14           2          0\n",
              "1       2       2      2  ...             0          18          0\n",
              "2       3       2      2  ...             9          16          0\n",
              "3       4       1     15  ...             0           5          0\n",
              "4       5       1     46  ...            16           7          0\n",
              "\n",
              "[5 rows x 9 columns]"
            ]
          },
          "metadata": {
            "tags": []
          },
          "execution_count": 4
        }
      ]
    },
    {
      "cell_type": "code",
      "metadata": {
        "id": "PqsxUSnpinPC",
        "colab": {
          "base_uri": "https://localhost:8080/"
        },
        "outputId": "c3cd2e4a-4e33-4e11-bfa8-5a6befb28eaa"
      },
      "source": [
        "df.isnull().sum()"
      ],
      "execution_count": 5,
      "outputs": [
        {
          "output_type": "execute_result",
          "data": {
            "text/plain": [
              "custID          0\n",
              "gender          0\n",
              "state           0\n",
              "cardholder      0\n",
              "balance         0\n",
              "numTrans        0\n",
              "numIntlTrans    0\n",
              "creditLine      0\n",
              "fraudRisk       0\n",
              "dtype: int64"
            ]
          },
          "metadata": {
            "tags": []
          },
          "execution_count": 5
        }
      ]
    },
    {
      "cell_type": "code",
      "metadata": {
        "id": "rijsO5ORinPC",
        "colab": {
          "base_uri": "https://localhost:8080/"
        },
        "outputId": "13527e19-3857-4c66-ab36-2f1b167aac9a"
      },
      "source": [
        "df[\"gender\"].value_counts() # 1 = male, 2 = female"
      ],
      "execution_count": 6,
      "outputs": [
        {
          "output_type": "execute_result",
          "data": {
            "text/plain": [
              "1    6178231\n",
              "2    3821769\n",
              "Name: gender, dtype: int64"
            ]
          },
          "metadata": {
            "tags": []
          },
          "execution_count": 6
        }
      ]
    },
    {
      "cell_type": "code",
      "metadata": {
        "id": "_GsHUPjeinPC",
        "colab": {
          "base_uri": "https://localhost:8080/",
          "height": 411
        },
        "outputId": "f1278ab0-81e4-42f5-a14f-758f6b51ae3e"
      },
      "source": [
        "print(df[\"fraudRisk\"].value_counts()) # 0 = Legitimate, 1 = Fraud\n",
        "print(\"\\nFraud: {:.2f}% \".format((df[\"fraudRisk\"].value_counts()[1] / df.shape[0]) * 100))\n",
        "print(\"Legitimate:{:.2f}% \".format((df[\"fraudRisk\"].value_counts()[0] / df.shape[0]) * 100))\n",
        "sns.countplot(df[\"fraudRisk\"])"
      ],
      "execution_count": 7,
      "outputs": [
        {
          "output_type": "stream",
          "text": [
            "0    9403986\n",
            "1     596014\n",
            "Name: fraudRisk, dtype: int64\n",
            "\n",
            "Fraud: 5.96% \n",
            "Legitimate:94.04% \n"
          ],
          "name": "stdout"
        },
        {
          "output_type": "execute_result",
          "data": {
            "text/plain": [
              "<matplotlib.axes._subplots.AxesSubplot at 0x7fcc9ac6d910>"
            ]
          },
          "metadata": {
            "tags": []
          },
          "execution_count": 7
        },
        {
          "output_type": "display_data",
          "data": {
            "image/png": "[encoded data removed]",
            "text/plain": [
              "<Figure size 432x288 with 1 Axes>"
            ]
          },
          "metadata": {
            "tags": [],
            "needs_background": "light"
          }
        }
      ]
    },
    {
      "cell_type": "code",
      "metadata": {
        "id": "qoEdCbqUinPD",
        "colab": {
          "base_uri": "https://localhost:8080/",
          "height": 294
        },
        "outputId": "0c85a656-46c8-4041-e6f7-b91e494a9bcb"
      },
      "source": [
        "df.describe()"
      ],
      "execution_count": 8,
      "outputs": [
        {
          "output_type": "execute_result",
          "data": {
            "text/html": [
              "<div>\n",
              "<style scoped>\n",
              "    .dataframe tbody tr th:only-of-type {\n",
              "        vertical-align: middle;\n",
              "    }\n",
              "\n",
              "    .dataframe tbody tr th {\n",
              "        vertical-align: top;\n",
              "    }\n",
              "\n",
              "    .dataframe thead th {\n",
              "        text-align: right;\n",
              "    }\n",
              "</style>\n",
              "<table border=\"1\" class=\"dataframe\">\n",
              "  <thead>\n",
              "    <tr style=\"text-align: right;\">\n",
              "      <th></th>\n",
              "      <th>custID</th>\n",
              "      <th>gender</th>\n",
              "      <th>state</th>\n",
              "      <th>cardholder</th>\n",
              "      <th>balance</th>\n",
              "      <th>numTrans</th>\n",
              "      <th>numIntlTrans</th>\n",
              "      <th>creditLine</th>\n",
              "      <th>fraudRisk</th>\n",
              "    </tr>\n",
              "  </thead>\n",
              "  <tbody>\n",
              "    <tr>\n",
              "      <th>count</th>\n",
              "      <td>1.000000e+07</td>\n",
              "      <td>1.000000e+07</td>\n",
              "      <td>1.000000e+07</td>\n",
              "      <td>1.000000e+07</td>\n",
              "      <td>1.000000e+07</td>\n",
              "      <td>1.000000e+07</td>\n",
              "      <td>1.000000e+07</td>\n",
              "      <td>1.000000e+07</td>\n",
              "      <td>1.000000e+07</td>\n",
              "    </tr>\n",
              "    <tr>\n",
              "      <th>mean</th>\n",
              "      <td>5.000000e+06</td>\n",
              "      <td>1.382177e+00</td>\n",
              "      <td>2.466127e+01</td>\n",
              "      <td>1.030004e+00</td>\n",
              "      <td>4.109920e+03</td>\n",
              "      <td>2.893519e+01</td>\n",
              "      <td>4.047190e+00</td>\n",
              "      <td>9.134469e+00</td>\n",
              "      <td>5.960140e-02</td>\n",
              "    </tr>\n",
              "    <tr>\n",
              "      <th>std</th>\n",
              "      <td>2.886751e+06</td>\n",
              "      <td>4.859195e-01</td>\n",
              "      <td>1.497012e+01</td>\n",
              "      <td>1.705991e-01</td>\n",
              "      <td>3.996847e+03</td>\n",
              "      <td>2.655378e+01</td>\n",
              "      <td>8.602970e+00</td>\n",
              "      <td>9.641974e+00</td>\n",
              "      <td>2.367469e-01</td>\n",
              "    </tr>\n",
              "    <tr>\n",
              "      <th>min</th>\n",
              "      <td>1.000000e+00</td>\n",
              "      <td>1.000000e+00</td>\n",
              "      <td>1.000000e+00</td>\n",
              "      <td>1.000000e+00</td>\n",
              "      <td>0.000000e+00</td>\n",
              "      <td>0.000000e+00</td>\n",
              "      <td>0.000000e+00</td>\n",
              "      <td>1.000000e+00</td>\n",
              "      <td>0.000000e+00</td>\n",
              "    </tr>\n",
              "    <tr>\n",
              "      <th>25%</th>\n",
              "      <td>2.500001e+06</td>\n",
              "      <td>1.000000e+00</td>\n",
              "      <td>1.000000e+01</td>\n",
              "      <td>1.000000e+00</td>\n",
              "      <td>0.000000e+00</td>\n",
              "      <td>1.000000e+01</td>\n",
              "      <td>0.000000e+00</td>\n",
              "      <td>4.000000e+00</td>\n",
              "      <td>0.000000e+00</td>\n",
              "    </tr>\n",
              "    <tr>\n",
              "      <th>50%</th>\n",
              "      <td>5.000000e+06</td>\n",
              "      <td>1.000000e+00</td>\n",
              "      <td>2.400000e+01</td>\n",
              "      <td>1.000000e+00</td>\n",
              "      <td>3.706000e+03</td>\n",
              "      <td>1.900000e+01</td>\n",
              "      <td>0.000000e+00</td>\n",
              "      <td>6.000000e+00</td>\n",
              "      <td>0.000000e+00</td>\n",
              "    </tr>\n",
              "    <tr>\n",
              "      <th>75%</th>\n",
              "      <td>7.500000e+06</td>\n",
              "      <td>2.000000e+00</td>\n",
              "      <td>3.800000e+01</td>\n",
              "      <td>1.000000e+00</td>\n",
              "      <td>6.000000e+03</td>\n",
              "      <td>3.900000e+01</td>\n",
              "      <td>4.000000e+00</td>\n",
              "      <td>1.100000e+01</td>\n",
              "      <td>0.000000e+00</td>\n",
              "    </tr>\n",
              "    <tr>\n",
              "      <th>max</th>\n",
              "      <td>1.000000e+07</td>\n",
              "      <td>2.000000e+00</td>\n",
              "      <td>5.100000e+01</td>\n",
              "      <td>2.000000e+00</td>\n",
              "      <td>4.148500e+04</td>\n",
              "      <td>1.000000e+02</td>\n",
              "      <td>6.000000e+01</td>\n",
              "      <td>7.500000e+01</td>\n",
              "      <td>1.000000e+00</td>\n",
              "    </tr>\n",
              "  </tbody>\n",
              "</table>\n",
              "</div>"
            ],
            "text/plain": [
              "             custID        gender  ...    creditLine     fraudRisk\n",
              "count  1.000000e+07  1.000000e+07  ...  1.000000e+07  1.000000e+07\n",
              "mean   5.000000e+06  1.382177e+00  ...  9.134469e+00  5.960140e-02\n",
              "std    2.886751e+06  4.859195e-01  ...  9.641974e+00  2.367469e-01\n",
              "min    1.000000e+00  1.000000e+00  ...  1.000000e+00  0.000000e+00\n",
              "25%    2.500001e+06  1.000000e+00  ...  4.000000e+00  0.000000e+00\n",
              "50%    5.000000e+06  1.000000e+00  ...  6.000000e+00  0.000000e+00\n",
              "75%    7.500000e+06  2.000000e+00  ...  1.100000e+01  0.000000e+00\n",
              "max    1.000000e+07  2.000000e+00  ...  7.500000e+01  1.000000e+00\n",
              "\n",
              "[8 rows x 9 columns]"
            ]
          },
          "metadata": {
            "tags": []
          },
          "execution_count": 8
        }
      ]
    },
    {
      "cell_type": "markdown",
      "metadata": {
        "id": "bEZH_DhLinPD"
      },
      "source": [
        "# Train Test Split"
      ]
    },
    {
      "cell_type": "code",
      "metadata": {
        "id": "gAxB3DyyinPD"
      },
      "source": [
        "from sklearn.model_selection import train_test_split\n",
        "X = df.drop(['fraudRisk', 'custID'],axis=1)\n",
        "y = df[[\"fraudRisk\"]]\n",
        "X_train, X_test, y_train, y_test = train_test_split(X, y, test_size=0.30,random_state=10)\n",
        "\n",
        "# Scaling the Data\n",
        "from sklearn.preprocessing import StandardScaler\n",
        "ss = StandardScaler()\n",
        "X_train = pd.DataFrame(ss.fit_transform(X_train), columns = X_train.columns)\n",
        "X_test = pd.DataFrame(ss.transform(X_test), columns = X_test.columns)"
      ],
      "execution_count": 9,
      "outputs": []
    },
    {
      "cell_type": "code",
      "metadata": {
        "colab": {
          "base_uri": "https://localhost:8080/"
        },
        "id": "Y1j3xN80sjy2",
        "outputId": "4f483f03-424a-4c7d-e45d-4a9cf77fe3ec"
      },
      "source": [
        "y_train.shape, X_train.shape, X_test.shape, y_test.shape\n",
        "X_train.isna().sum(), y_train.isnull().sum()"
      ],
      "execution_count": 10,
      "outputs": [
        {
          "output_type": "execute_result",
          "data": {
            "text/plain": [
              "(gender          0\n",
              " state           0\n",
              " cardholder      0\n",
              " balance         0\n",
              " numTrans        0\n",
              " numIntlTrans    0\n",
              " creditLine      0\n",
              " dtype: int64, fraudRisk    0\n",
              " dtype: int64)"
            ]
          },
          "metadata": {
            "tags": []
          },
          "execution_count": 10
        }
      ]
    },
    {
      "cell_type": "code",
      "metadata": {
        "colab": {
          "base_uri": "https://localhost:8080/",
          "height": 415
        },
        "id": "wBb520rvFmyQ",
        "outputId": "fc2bd53b-14ff-4c73-e03b-5fba714997cf"
      },
      "source": [
        "X_test"
      ],
      "execution_count": 11,
      "outputs": [
        {
          "output_type": "execute_result",
          "data": {
            "text/html": [
              "<div>\n",
              "<style scoped>\n",
              "    .dataframe tbody tr th:only-of-type {\n",
              "        vertical-align: middle;\n",
              "    }\n",
              "\n",
              "    .dataframe tbody tr th {\n",
              "        vertical-align: top;\n",
              "    }\n",
              "\n",
              "    .dataframe thead th {\n",
              "        text-align: right;\n",
              "    }\n",
              "</style>\n",
              "<table border=\"1\" class=\"dataframe\">\n",
              "  <thead>\n",
              "    <tr style=\"text-align: right;\">\n",
              "      <th></th>\n",
              "      <th>gender</th>\n",
              "      <th>state</th>\n",
              "      <th>cardholder</th>\n",
              "      <th>balance</th>\n",
              "      <th>numTrans</th>\n",
              "      <th>numIntlTrans</th>\n",
              "      <th>creditLine</th>\n",
              "    </tr>\n",
              "  </thead>\n",
              "  <tbody>\n",
              "    <tr>\n",
              "      <th>0</th>\n",
              "      <td>-0.786435</td>\n",
              "      <td>-0.979307</td>\n",
              "      <td>-0.175892</td>\n",
              "      <td>-1.028165</td>\n",
              "      <td>-0.298802</td>\n",
              "      <td>-0.354121</td>\n",
              "      <td>-0.325115</td>\n",
              "    </tr>\n",
              "    <tr>\n",
              "      <th>1</th>\n",
              "      <td>-0.786435</td>\n",
              "      <td>-1.313315</td>\n",
              "      <td>-0.175892</td>\n",
              "      <td>0.222821</td>\n",
              "      <td>-0.826013</td>\n",
              "      <td>-0.470296</td>\n",
              "      <td>-0.532586</td>\n",
              "    </tr>\n",
              "    <tr>\n",
              "      <th>2</th>\n",
              "      <td>1.271560</td>\n",
              "      <td>-1.313315</td>\n",
              "      <td>-0.175892</td>\n",
              "      <td>-1.028165</td>\n",
              "      <td>-0.411776</td>\n",
              "      <td>-0.470296</td>\n",
              "      <td>-0.740056</td>\n",
              "    </tr>\n",
              "    <tr>\n",
              "      <th>3</th>\n",
              "      <td>1.271560</td>\n",
              "      <td>-0.979307</td>\n",
              "      <td>-0.175892</td>\n",
              "      <td>-1.028165</td>\n",
              "      <td>2.676170</td>\n",
              "      <td>-0.470296</td>\n",
              "      <td>-0.428851</td>\n",
              "    </tr>\n",
              "    <tr>\n",
              "      <th>4</th>\n",
              "      <td>-0.786435</td>\n",
              "      <td>-1.313315</td>\n",
              "      <td>-0.175892</td>\n",
              "      <td>0.360929</td>\n",
              "      <td>1.584092</td>\n",
              "      <td>1.272333</td>\n",
              "      <td>-0.117645</td>\n",
              "    </tr>\n",
              "    <tr>\n",
              "      <th>...</th>\n",
              "      <td>...</td>\n",
              "      <td>...</td>\n",
              "      <td>...</td>\n",
              "      <td>...</td>\n",
              "      <td>...</td>\n",
              "      <td>...</td>\n",
              "      <td>...</td>\n",
              "    </tr>\n",
              "    <tr>\n",
              "      <th>2999995</th>\n",
              "      <td>-0.786435</td>\n",
              "      <td>0.223120</td>\n",
              "      <td>-0.175892</td>\n",
              "      <td>-0.027376</td>\n",
              "      <td>0.115434</td>\n",
              "      <td>0.575282</td>\n",
              "      <td>-0.636321</td>\n",
              "    </tr>\n",
              "    <tr>\n",
              "      <th>2999996</th>\n",
              "      <td>-0.786435</td>\n",
              "      <td>1.291944</td>\n",
              "      <td>-0.175892</td>\n",
              "      <td>-0.948352</td>\n",
              "      <td>-0.788355</td>\n",
              "      <td>-0.470296</td>\n",
              "      <td>-0.221380</td>\n",
              "    </tr>\n",
              "    <tr>\n",
              "      <th>2999997</th>\n",
              "      <td>-0.786435</td>\n",
              "      <td>-0.311292</td>\n",
              "      <td>-0.175892</td>\n",
              "      <td>1.147549</td>\n",
              "      <td>0.416698</td>\n",
              "      <td>-0.470296</td>\n",
              "      <td>0.504766</td>\n",
              "    </tr>\n",
              "    <tr>\n",
              "      <th>2999998</th>\n",
              "      <td>1.271560</td>\n",
              "      <td>0.690730</td>\n",
              "      <td>-0.175892</td>\n",
              "      <td>-0.720172</td>\n",
              "      <td>-0.600065</td>\n",
              "      <td>-0.470296</td>\n",
              "      <td>0.504766</td>\n",
              "    </tr>\n",
              "    <tr>\n",
              "      <th>2999999</th>\n",
              "      <td>-0.786435</td>\n",
              "      <td>0.690730</td>\n",
              "      <td>-0.175892</td>\n",
              "      <td>-0.027376</td>\n",
              "      <td>-0.449434</td>\n",
              "      <td>-0.470296</td>\n",
              "      <td>-0.636321</td>\n",
              "    </tr>\n",
              "  </tbody>\n",
              "</table>\n",
              "<p>3000000 rows × 7 columns</p>\n",
              "</div>"
            ],
            "text/plain": [
              "           gender     state  cardholder  ...  numTrans  numIntlTrans  creditLine\n",
              "0       -0.786435 -0.979307   -0.175892  ... -0.298802     -0.354121   -0.325115\n",
              "1       -0.786435 -1.313315   -0.175892  ... -0.826013     -0.470296   -0.532586\n",
              "2        1.271560 -1.313315   -0.175892  ... -0.411776     -0.470296   -0.740056\n",
              "3        1.271560 -0.979307   -0.175892  ...  2.676170     -0.470296   -0.428851\n",
              "4       -0.786435 -1.313315   -0.175892  ...  1.584092      1.272333   -0.117645\n",
              "...           ...       ...         ...  ...       ...           ...         ...\n",
              "2999995 -0.786435  0.223120   -0.175892  ...  0.115434      0.575282   -0.636321\n",
              "2999996 -0.786435  1.291944   -0.175892  ... -0.788355     -0.470296   -0.221380\n",
              "2999997 -0.786435 -0.311292   -0.175892  ...  0.416698     -0.470296    0.504766\n",
              "2999998  1.271560  0.690730   -0.175892  ... -0.600065     -0.470296    0.504766\n",
              "2999999 -0.786435  0.690730   -0.175892  ... -0.449434     -0.470296   -0.636321\n",
              "\n",
              "[3000000 rows x 7 columns]"
            ]
          },
          "metadata": {
            "tags": []
          },
          "execution_count": 11
        }
      ]
    },
    {
      "cell_type": "markdown",
      "metadata": {
        "id": "MJ8ZcXlmApwt"
      },
      "source": [
        "# Dealing Imbalanced Data"
      ]
    },
    {
      "cell_type": "markdown",
      "metadata": {
        "id": "ibDSLEh1Apwt"
      },
      "source": [
        "#### SMOTE"
      ]
    },
    {
      "cell_type": "code",
      "metadata": {
        "id": "o1lcO4R4inPE"
      },
      "source": [
        "# Random Oversampling\n",
        "from imblearn.over_sampling import SMOTE\n",
        "sm = SMOTE(random_state=10)\n",
        "X_smote, y_smote = sm.fit_resample(X_train, y_train)\n",
        "X_smote = pd.DataFrame(X_smote, columns = X_train.columns)\n",
        "y_smote = pd.DataFrame(y_smote, columns=[\"fraudRisk\"])"
      ],
      "execution_count": 12,
      "outputs": []
    },
    {
      "cell_type": "code",
      "metadata": {
        "id": "2rWraHaFinPE",
        "colab": {
          "base_uri": "https://localhost:8080/",
          "height": 415
        },
        "outputId": "88133ab7-aaae-438a-cb0f-7e23cca9a093"
      },
      "source": [
        "X_smote"
      ],
      "execution_count": 13,
      "outputs": [
        {
          "output_type": "execute_result",
          "data": {
            "text/html": [
              "<div>\n",
              "<style scoped>\n",
              "    .dataframe tbody tr th:only-of-type {\n",
              "        vertical-align: middle;\n",
              "    }\n",
              "\n",
              "    .dataframe tbody tr th {\n",
              "        vertical-align: top;\n",
              "    }\n",
              "\n",
              "    .dataframe thead th {\n",
              "        text-align: right;\n",
              "    }\n",
              "</style>\n",
              "<table border=\"1\" class=\"dataframe\">\n",
              "  <thead>\n",
              "    <tr style=\"text-align: right;\">\n",
              "      <th></th>\n",
              "      <th>gender</th>\n",
              "      <th>state</th>\n",
              "      <th>cardholder</th>\n",
              "      <th>balance</th>\n",
              "      <th>numTrans</th>\n",
              "      <th>numIntlTrans</th>\n",
              "      <th>creditLine</th>\n",
              "    </tr>\n",
              "  </thead>\n",
              "  <tbody>\n",
              "    <tr>\n",
              "      <th>0</th>\n",
              "      <td>1.271560</td>\n",
              "      <td>0.089517</td>\n",
              "      <td>-0.175892</td>\n",
              "      <td>0.988924</td>\n",
              "      <td>-0.524749</td>\n",
              "      <td>-0.470296</td>\n",
              "      <td>0.608501</td>\n",
              "    </tr>\n",
              "    <tr>\n",
              "      <th>1</th>\n",
              "      <td>-0.786435</td>\n",
              "      <td>-1.380116</td>\n",
              "      <td>-0.175892</td>\n",
              "      <td>-0.527771</td>\n",
              "      <td>0.153092</td>\n",
              "      <td>-0.470296</td>\n",
              "      <td>-0.843791</td>\n",
              "    </tr>\n",
              "    <tr>\n",
              "      <th>2</th>\n",
              "      <td>1.271560</td>\n",
              "      <td>0.557127</td>\n",
              "      <td>-0.175892</td>\n",
              "      <td>-1.028165</td>\n",
              "      <td>-0.938986</td>\n",
              "      <td>0.226756</td>\n",
              "      <td>-0.532586</td>\n",
              "    </tr>\n",
              "    <tr>\n",
              "      <th>3</th>\n",
              "      <td>-0.786435</td>\n",
              "      <td>0.957936</td>\n",
              "      <td>-0.175892</td>\n",
              "      <td>-0.535277</td>\n",
              "      <td>-0.938986</td>\n",
              "      <td>-0.470296</td>\n",
              "      <td>0.089825</td>\n",
              "    </tr>\n",
              "    <tr>\n",
              "      <th>4</th>\n",
              "      <td>-0.786435</td>\n",
              "      <td>-0.044086</td>\n",
              "      <td>-0.175892</td>\n",
              "      <td>-0.027376</td>\n",
              "      <td>1.282829</td>\n",
              "      <td>-0.005595</td>\n",
              "      <td>-0.636321</td>\n",
              "    </tr>\n",
              "    <tr>\n",
              "      <th>...</th>\n",
              "      <td>...</td>\n",
              "      <td>...</td>\n",
              "      <td>...</td>\n",
              "      <td>...</td>\n",
              "      <td>...</td>\n",
              "      <td>...</td>\n",
              "      <td>...</td>\n",
              "    </tr>\n",
              "    <tr>\n",
              "      <th>13166175</th>\n",
              "      <td>-0.786435</td>\n",
              "      <td>-0.147311</td>\n",
              "      <td>-0.175892</td>\n",
              "      <td>2.491129</td>\n",
              "      <td>-0.209768</td>\n",
              "      <td>-0.470296</td>\n",
              "      <td>1.334648</td>\n",
              "    </tr>\n",
              "    <tr>\n",
              "      <th>13166176</th>\n",
              "      <td>1.271560</td>\n",
              "      <td>-1.313315</td>\n",
              "      <td>-0.175892</td>\n",
              "      <td>1.014257</td>\n",
              "      <td>1.839759</td>\n",
              "      <td>0.202268</td>\n",
              "      <td>1.479318</td>\n",
              "    </tr>\n",
              "    <tr>\n",
              "      <th>13166177</th>\n",
              "      <td>-0.786435</td>\n",
              "      <td>0.089517</td>\n",
              "      <td>-0.175892</td>\n",
              "      <td>1.967782</td>\n",
              "      <td>0.201574</td>\n",
              "      <td>-0.387514</td>\n",
              "      <td>0.267478</td>\n",
              "    </tr>\n",
              "    <tr>\n",
              "      <th>13166178</th>\n",
              "      <td>1.271560</td>\n",
              "      <td>1.369985</td>\n",
              "      <td>-0.175892</td>\n",
              "      <td>0.367578</td>\n",
              "      <td>2.676170</td>\n",
              "      <td>-0.470296</td>\n",
              "      <td>4.014309</td>\n",
              "    </tr>\n",
              "    <tr>\n",
              "      <th>13166179</th>\n",
              "      <td>1.271560</td>\n",
              "      <td>1.561294</td>\n",
              "      <td>-0.175892</td>\n",
              "      <td>1.553967</td>\n",
              "      <td>-0.371700</td>\n",
              "      <td>-0.470296</td>\n",
              "      <td>0.401031</td>\n",
              "    </tr>\n",
              "  </tbody>\n",
              "</table>\n",
              "<p>13166180 rows × 7 columns</p>\n",
              "</div>"
            ],
            "text/plain": [
              "            gender     state  cardholder  ...  numTrans  numIntlTrans  creditLine\n",
              "0         1.271560  0.089517   -0.175892  ... -0.524749     -0.470296    0.608501\n",
              "1        -0.786435 -1.380116   -0.175892  ...  0.153092     -0.470296   -0.843791\n",
              "2         1.271560  0.557127   -0.175892  ... -0.938986      0.226756   -0.532586\n",
              "3        -0.786435  0.957936   -0.175892  ... -0.938986     -0.470296    0.089825\n",
              "4        -0.786435 -0.044086   -0.175892  ...  1.282829     -0.005595   -0.636321\n",
              "...            ...       ...         ...  ...       ...           ...         ...\n",
              "13166175 -0.786435 -0.147311   -0.175892  ... -0.209768     -0.470296    1.334648\n",
              "13166176  1.271560 -1.313315   -0.175892  ...  1.839759      0.202268    1.479318\n",
              "13166177 -0.786435  0.089517   -0.175892  ...  0.201574     -0.387514    0.267478\n",
              "13166178  1.271560  1.369985   -0.175892  ...  2.676170     -0.470296    4.014309\n",
              "13166179  1.271560  1.561294   -0.175892  ... -0.371700     -0.470296    0.401031\n",
              "\n",
              "[13166180 rows x 7 columns]"
            ]
          },
          "metadata": {
            "tags": []
          },
          "execution_count": 13
        }
      ]
    },
    {
      "cell_type": "code",
      "metadata": {
        "id": "zRbxZ6_2inPF",
        "colab": {
          "base_uri": "https://localhost:8080/",
          "height": 394
        },
        "outputId": "b4b70ac6-c462-4cfc-e639-1b3886595897"
      },
      "source": [
        "print(y_smote[\"fraudRisk\"].value_counts())\n",
        "print(\"\\nFraud: {:.2f}% \".format((y_smote[\"fraudRisk\"].value_counts()[1] / y_smote.shape[0]) * 100))\n",
        "print(\"Legitimate:{:.2f}% \".format((y_smote[\"fraudRisk\"].value_counts()[0] / y_smote.shape[0]) * 100))\n",
        "sns.countplot(y_smote[\"fraudRisk\"])\n",
        "plt.show()"
      ],
      "execution_count": 14,
      "outputs": [
        {
          "output_type": "stream",
          "text": [
            "1    6583090\n",
            "0    6583090\n",
            "Name: fraudRisk, dtype: int64\n",
            "\n",
            "Fraud: 50.00% \n",
            "Legitimate:50.00% \n"
          ],
          "name": "stdout"
        },
        {
          "output_type": "display_data",
          "data": {
            "image/png": "[encoded data removed]",
            "text/plain": [
              "<Figure size 432x288 with 1 Axes>"
            ]
          },
          "metadata": {
            "tags": [],
            "needs_background": "light"
          }
        }
      ]
    },
    {
      "cell_type": "code",
      "metadata": {
        "id": "Web6PqBCApwv"
      },
      "source": [
        ""
      ],
      "execution_count": 14,
      "outputs": []
    },
    {
      "cell_type": "markdown",
      "metadata": {
        "id": "8fhGRHyvinPF"
      },
      "source": [
        "# Model Training"
      ]
    },
    {
      "cell_type": "markdown",
      "metadata": {
        "id": "YtoHr4dEApwx"
      },
      "source": [
        "#### Logistic Regression"
      ]
    },
    {
      "cell_type": "code",
      "metadata": {
        "colab": {
          "base_uri": "https://localhost:8080/"
        },
        "id": "lqDy8KSginPF",
        "outputId": "3c844dd5-a9a8-46ad-d2ec-831ee5fa172c"
      },
      "source": [
        "model1 =LogisticRegression()\n",
        "model1.fit(X_smote,y_smote.fraudRisk)\n",
        "lr_prediction=model1.predict(X_smote)\n",
        "lr_accuracy = metrics.accuracy_score(lr_prediction,y_smote.fraudRisk)\n",
        "print(f'Train Data Accuracy= {lr_accuracy*100:.2f}%')\n",
        "\n",
        "lr_prediction=model1.predict(X_test)\n",
        "lr_accuracy = metrics.accuracy_score(lr_prediction,y_test[[\"fraudRisk\"]])\n",
        "print(f'Test Data Accuracy= {lr_accuracy*100:.2f}%')\n",
        "\n"
      ],
      "execution_count": null,
      "outputs": [
        {
          "output_type": "stream",
          "text": [
            "Train Data Accuracy= 88.82%\n",
            "Test Data Accuracy= 88.40%\n"
          ],
          "name": "stdout"
        }
      ]
    },
    {
      "cell_type": "code",
      "metadata": {
        "colab": {
          "base_uri": "https://localhost:8080/",
          "height": 311
        },
        "id": "DdfnfXdMinPG",
        "outputId": "259a69b7-e426-4d99-c8ed-7b6e781152b3"
      },
      "source": [
        "# confusion matrix of Logistic Regression             Confusion Matrix Format: [TN, FP]      # P = 1, N = 0\n",
        "print(\"Test Data Confusion Matrix: \")                 #                        [FN, TP]\n",
        "sns.heatmap(confusion_matrix(y_test[[\"fraudRisk\"]],lr_prediction), annot=True, fmt=\".1f\")"
      ],
      "execution_count": null,
      "outputs": [
        {
          "output_type": "stream",
          "text": [
            "Test Data Confusion Matrix: \n"
          ],
          "name": "stdout"
        },
        {
          "output_type": "execute_result",
          "data": {
            "text/plain": [
              "<matplotlib.axes._subplots.AxesSubplot at 0x7ff18e0a8550>"
            ]
          },
          "metadata": {
            "tags": []
          },
          "execution_count": 41
        },
        {
          "output_type": "display_data",
          "data": {
            "image/png": "[encoded data removed]",
            "text/plain": [
              "<Figure size 432x288 with 2 Axes>"
            ]
          },
          "metadata": {
            "tags": [],
            "needs_background": "light"
          }
        }
      ]
    },
    {
      "cell_type": "code",
      "metadata": {
        "colab": {
          "base_uri": "https://localhost:8080/"
        },
        "id": "inePZz4jinPG",
        "outputId": "fda472ce-db26-4825-f6a4-8cdebf02e51c"
      },
      "source": [
        "lr_precision = metrics.precision_score(y_test[[\"fraudRisk\"]],lr_prediction)\n",
        "lr_recall = metrics.recall_score(y_test[[\"fraudRisk\"]],lr_prediction)\n",
        "lr_f1score = metrics.f1_score(y_test[[\"fraudRisk\"]],lr_prediction)\n",
        "lr_precision, lr_recall, lr_f1score\n",
        "\n"
      ],
      "execution_count": null,
      "outputs": [
        {
          "output_type": "execute_result",
          "data": {
            "text/plain": [
              "(0.327139235222257, 0.8926098802930141, 0.4787996316234773)"
            ]
          },
          "metadata": {
            "tags": []
          },
          "execution_count": 42
        }
      ]
    },
    {
      "cell_type": "code",
      "metadata": {
        "id": "bcePqszTApwy",
        "colab": {
          "base_uri": "https://localhost:8080/"
        },
        "outputId": "e305d8fd-9c6e-4105-bc11-420d847d58f9"
      },
      "source": [
        "# save the model to disk\n",
        "filename = '/content/gdrive/My Drive/ML_Credit_Card_Saved_Models/LogisticReg.sav'\n",
        "joblib.dump(model1, filename)"
      ],
      "execution_count": null,
      "outputs": [
        {
          "output_type": "execute_result",
          "data": {
            "text/plain": [
              "['/content/gdrive/My Drive/ML_Credit_Card_Saved_Models/LogisticReg.sav']"
            ]
          },
          "metadata": {
            "tags": []
          },
          "execution_count": 43
        }
      ]
    },
    {
      "cell_type": "markdown",
      "metadata": {
        "id": "_LIKveKlApwz"
      },
      "source": [
        "#### Naive Bayes"
      ]
    },
    {
      "cell_type": "code",
      "metadata": {
        "colab": {
          "base_uri": "https://localhost:8080/"
        },
        "id": "IhOZN5juinPH",
        "outputId": "772b1758-7ae8-43a3-c1aa-5dfa30008ac2"
      },
      "source": [
        "model2 = nb.GaussianNB() \n",
        "model2.fit(X_smote,y_smote.fraudRisk)\n",
        "\n",
        "nb_prediction=model2.predict(X_smote)\n",
        "nb_accuracy = metrics.accuracy_score(nb_prediction,y_smote.fraudRisk)\n",
        "print(f'Train Data Accuracy= {nb_accuracy*100:.2f}%')\n",
        "\n",
        "nb_prediction=model2.predict(X_test)\n",
        "nb_accuracy = metrics.accuracy_score(nb_prediction,y_test[[\"fraudRisk\"]])\n",
        "print(f'Test Data Accuracy= {nb_accuracy*100:.2f}%')\n"
      ],
      "execution_count": null,
      "outputs": [
        {
          "output_type": "stream",
          "text": [
            "Train Data Accuracy= 85.88%\n",
            "Test Data Accuracy= 86.83%\n"
          ],
          "name": "stdout"
        }
      ]
    },
    {
      "cell_type": "code",
      "metadata": {
        "colab": {
          "base_uri": "https://localhost:8080/",
          "height": 311
        },
        "id": "KaTa-I1EinPI",
        "outputId": "b60f4542-e3ea-4752-c87f-80ee3f206274"
      },
      "source": [
        "# confusion matrix of NB\n",
        "print(\"Test Data Confusion Matrix: \")\n",
        "sns.heatmap(confusion_matrix(y_test[[\"fraudRisk\"]],nb_prediction), annot=True, fmt=\".1f\")"
      ],
      "execution_count": null,
      "outputs": [
        {
          "output_type": "stream",
          "text": [
            "Test Data Confusion Matrix: \n"
          ],
          "name": "stdout"
        },
        {
          "output_type": "execute_result",
          "data": {
            "text/plain": [
              "<matplotlib.axes._subplots.AxesSubplot at 0x7ff18dfbc390>"
            ]
          },
          "metadata": {
            "tags": []
          },
          "execution_count": 45
        },
        {
          "output_type": "display_data",
          "data": {
            "image/png": "[encoded data removed]",
            "text/plain": [
              "<Figure size 432x288 with 2 Axes>"
            ]
          },
          "metadata": {
            "tags": [],
            "needs_background": "light"
          }
        }
      ]
    },
    {
      "cell_type": "code",
      "metadata": {
        "colab": {
          "base_uri": "https://localhost:8080/"
        },
        "id": "nkucxfbAinPI",
        "outputId": "5cce60bf-fe55-4d4a-b623-c237e75d7ad4"
      },
      "source": [
        "nb_precision = metrics.precision_score(y_test[[\"fraudRisk\"]],nb_prediction)\n",
        "nb_recall = metrics.recall_score(y_test[[\"fraudRisk\"]],nb_prediction)\n",
        "nb_f1score = metrics.f1_score(y_test[[\"fraudRisk\"]],nb_prediction)\n",
        "nb_precision, nb_recall, nb_f1score\n"
      ],
      "execution_count": null,
      "outputs": [
        {
          "output_type": "execute_result",
          "data": {
            "text/plain": [
              "(0.2921086754933761, 0.8477420939789173, 0.4345004220978981)"
            ]
          },
          "metadata": {
            "tags": []
          },
          "execution_count": 46
        }
      ]
    },
    {
      "cell_type": "code",
      "metadata": {
        "id": "0vTZrHBpApw0",
        "colab": {
          "base_uri": "https://localhost:8080/"
        },
        "outputId": "4c819e05-e8e7-4178-e42f-72ce5f18a571"
      },
      "source": [
        "# save the model to disk\n",
        "filename = '/content/gdrive/My Drive/ML_Credit_Card_Saved_Models/NaiveBayes.sav'\n",
        "joblib.dump(model2, filename)"
      ],
      "execution_count": null,
      "outputs": [
        {
          "output_type": "execute_result",
          "data": {
            "text/plain": [
              "['/content/gdrive/My Drive/ML_Credit_Card_Saved_Models/NaiveBayes.sav']"
            ]
          },
          "metadata": {
            "tags": []
          },
          "execution_count": 47
        }
      ]
    },
    {
      "cell_type": "markdown",
      "metadata": {
        "id": "7n3HFjusApw0"
      },
      "source": [
        "#### SGDClassifier algorithm"
      ]
    },
    {
      "cell_type": "code",
      "metadata": {
        "id": "gKaprYLVinPI",
        "colab": {
          "base_uri": "https://localhost:8080/"
        },
        "outputId": "1eb16783-2593-404b-b48f-7bd365bd4f74"
      },
      "source": [
        "model3 =  SGDClassifier()\n",
        "model3.fit(X_smote,y_smote.fraudRisk)\n",
        "\n",
        "sgd_prediction=model3.predict(X_smote)\n",
        "sgd_accuracy = metrics.accuracy_score(sgd_prediction,y_smote.fraudRisk)\n",
        "print(f'Train Data Accuracy= {sgd_accuracy*100:.2f}%')\n",
        "\n",
        "sgd_prediction=model3.predict(X_test)\n",
        "sgd_accuracy = metrics.accuracy_score(sgd_prediction,y_test[[\"fraudRisk\"]])\n",
        "print(f'Test Data Accuracy= {sgd_accuracy*100:.2f}%')\n",
        "\n"
      ],
      "execution_count": null,
      "outputs": [
        {
          "output_type": "stream",
          "text": [
            "Train Data Accuracy= 88.86%\n",
            "Test Data Accuracy= 87.86%\n"
          ],
          "name": "stdout"
        }
      ]
    },
    {
      "cell_type": "code",
      "metadata": {
        "id": "7O1_RA0JinPI",
        "colab": {
          "base_uri": "https://localhost:8080/"
        },
        "outputId": "99e25116-49b4-4b7c-dfc8-c1cf9df30fd8"
      },
      "source": [
        "# confusion matrix of SGDClassifier\n",
        "print(\"Test Data Confusion Matrix: \")\n",
        "sns.heatmap(confusion_matrix(y_test[[\"fraudRisk\"]],sgd_prediction), annot=True, fmt=\".1f\")"
      ],
      "execution_count": null,
      "outputs": [
        {
          "output_type": "stream",
          "text": [
            "Test Data Confusion Matrix: \n"
          ],
          "name": "stdout"
        },
        {
          "output_type": "execute_result",
          "data": {
            "text/plain": [
              "<matplotlib.axes._subplots.AxesSubplot at 0x7f4eae259dd0>"
            ]
          },
          "metadata": {
            "tags": []
          },
          "execution_count": 19
        },
        {
          "output_type": "display_data",
          "data": {
            "image/png": "[encoded data removed]",
            "text/plain": [
              "<Figure size 432x288 with 2 Axes>"
            ]
          },
          "metadata": {
            "tags": [],
            "needs_background": "light"
          }
        }
      ]
    },
    {
      "cell_type": "code",
      "metadata": {
        "id": "aof3_18pinPJ",
        "colab": {
          "base_uri": "https://localhost:8080/"
        },
        "outputId": "25bf6d01-12cd-480a-eede-97ce9d3fb07f"
      },
      "source": [
        "sgd_precision = metrics.precision_score(y_test[[\"fraudRisk\"]],sgd_prediction)\n",
        "sgd_recall = metrics.recall_score(y_test[[\"fraudRisk\"]],sgd_prediction)\n",
        "sgd_f1score = metrics.f1_score(y_test[[\"fraudRisk\"]],sgd_prediction)\n",
        "sgd_precision, sgd_recall, sgd_f1score\n",
        "\n"
      ],
      "execution_count": null,
      "outputs": [
        {
          "output_type": "execute_result",
          "data": {
            "text/plain": [
              "(0.31751046536378474, 0.8994829819546185, 0.46934560053139734)"
            ]
          },
          "metadata": {
            "tags": []
          },
          "execution_count": 20
        }
      ]
    },
    {
      "cell_type": "code",
      "metadata": {
        "id": "9yonthMWinPJ",
        "colab": {
          "base_uri": "https://localhost:8080/"
        },
        "outputId": "fdb51fb9-e5bb-455f-ac37-1f40c82333c6"
      },
      "source": [
        "# save the model to disk\n",
        "filename = '/content/gdrive/My Drive/ML_Credit_Card_Saved_Models/SGD.sav'\n",
        "joblib.dump(model3, filename)"
      ],
      "execution_count": null,
      "outputs": [
        {
          "output_type": "execute_result",
          "data": {
            "text/plain": [
              "['/content/gdrive/My Drive/ML_Credit_Card_Saved_Models/SGD.sav']"
            ]
          },
          "metadata": {
            "tags": []
          },
          "execution_count": 21
        }
      ]
    },
    {
      "cell_type": "markdown",
      "metadata": {
        "id": "_szmM0UQ8ny8"
      },
      "source": [
        "#### Decision Tree"
      ]
    },
    {
      "cell_type": "code",
      "metadata": {
        "colab": {
          "base_uri": "https://localhost:8080/"
        },
        "id": "rg0l8eyb83uB",
        "outputId": "3c8b789c-ce3e-4c73-d752-34070b497424"
      },
      "source": [
        "#KNN algorithm\n",
        "from sklearn.tree import DecisionTreeClassifier\n",
        "\n",
        "model4 = DecisionTreeClassifier(criterion = 'entropy', min_samples_split=4)\n",
        "model4.fit(X_smote,y_smote.fraudRisk)\n",
        "\n",
        "dt_prediction=model4.predict(X_smote)\n",
        "dt_prediction = metrics.accuracy_score(dt_prediction,y_smote.fraudRisk)\n",
        "print(f'Train Data Accuracy= {dt_prediction*100:.2f}%')\n",
        "\n",
        "dt_prediction=model4.predict(X_test)\n",
        "dt_accuracy = metrics.accuracy_score(dt_prediction,y_test[[\"fraudRisk\"]])\n",
        "print(f'Test Data Accuracy= {dt_accuracy*100:.2f}%')\n",
        "\n"
      ],
      "execution_count": null,
      "outputs": [
        {
          "output_type": "stream",
          "text": [
            "Train Data Accuracy= 98.58%\n",
            "Test Data Accuracy= 93.26%\n"
          ],
          "name": "stdout"
        }
      ]
    },
    {
      "cell_type": "code",
      "metadata": {
        "colab": {
          "base_uri": "https://localhost:8080/"
        },
        "id": "B4vwmDTx9e0J",
        "outputId": "f48148c6-6bce-4339-f560-d392b761b24a"
      },
      "source": [
        "# confusion matrix of KNN\n",
        "print(\"Test Data Confusion Matrix: \")\n",
        "sns.heatmap(confusion_matrix(y_test[[\"fraudRisk\"]],dt_prediction), annot=True, fmt=\".1f\")"
      ],
      "execution_count": null,
      "outputs": [
        {
          "output_type": "stream",
          "text": [
            "Test Data Confusion Matrix: \n"
          ],
          "name": "stdout"
        },
        {
          "output_type": "execute_result",
          "data": {
            "text/plain": [
              "<matplotlib.axes._subplots.AxesSubplot at 0x7f27a2cdfad0>"
            ]
          },
          "metadata": {
            "tags": []
          },
          "execution_count": 16
        },
        {
          "output_type": "display_data",
          "data": {
            "image/png": "[encoded data removed]",
            "text/plain": [
              "<Figure size 432x288 with 2 Axes>"
            ]
          },
          "metadata": {
            "tags": [],
            "needs_background": "light"
          }
        }
      ]
    },
    {
      "cell_type": "code",
      "metadata": {
        "colab": {
          "base_uri": "https://localhost:8080/"
        },
        "id": "6mIizNyF9l5A",
        "outputId": "b251dfc0-d629-4588-b6b7-268430d404b0"
      },
      "source": [
        "dt_precision = metrics.precision_score(y_test[[\"fraudRisk\"]],dt_prediction)\n",
        "dt_recall = metrics.recall_score(y_test[[\"fraudRisk\"]],dt_prediction)\n",
        "dt_f1score = metrics.f1_score(y_test[[\"fraudRisk\"]],dt_prediction)\n",
        "dt_precision, dt_recall, dt_f1score\n"
      ],
      "execution_count": null,
      "outputs": [
        {
          "output_type": "execute_result",
          "data": {
            "text/plain": [
              "(0.4461823978458935, 0.5329082544220118, 0.48570432623193166)"
            ]
          },
          "metadata": {
            "tags": []
          },
          "execution_count": 17
        }
      ]
    },
    {
      "cell_type": "code",
      "metadata": {
        "colab": {
          "base_uri": "https://localhost:8080/"
        },
        "id": "KOo6cTbUDbRR",
        "outputId": "a1fdd7e2-16b1-43bb-fa4d-22c8e3f727e1"
      },
      "source": [
        "# print(classification_report(y_test[[\"fraudRisk\"]],dt_prediction))\n",
        "\n",
        "metrics.recall_score(y_test[[\"fraudRisk\"]],dt_prediction)"
      ],
      "execution_count": null,
      "outputs": [
        {
          "output_type": "execute_result",
          "data": {
            "text/plain": [
              "0.5329082544220118"
            ]
          },
          "metadata": {
            "tags": []
          },
          "execution_count": 18
        }
      ]
    },
    {
      "cell_type": "code",
      "metadata": {
        "id": "FBmDSAlCnQN8",
        "colab": {
          "base_uri": "https://localhost:8080/"
        },
        "outputId": "e7e4d7e3-e7ab-46e2-b9a2-25e1e030fd75"
      },
      "source": [
        "# save the model to disk\n",
        "filename = '/content/gdrive/My Drive/ML_Credit_Card_Saved_Models/DecisionTree.sav'\n",
        "joblib.dump(model4, filename)"
      ],
      "execution_count": null,
      "outputs": [
        {
          "output_type": "execute_result",
          "data": {
            "text/plain": [
              "['/content/gdrive/My Drive/ML_Credit_Card_Saved_Models/DecisionTree.sav']"
            ]
          },
          "metadata": {
            "tags": []
          },
          "execution_count": 19
        }
      ]
    },
    {
      "cell_type": "markdown",
      "metadata": {
        "id": "ACYJg6kut3K-"
      },
      "source": [
        "#### Random Forest"
      ]
    },
    {
      "cell_type": "code",
      "metadata": {
        "id": "7MEUmkuCt3LH",
        "colab": {
          "base_uri": "https://localhost:8080/"
        },
        "outputId": "20ec2583-ce5c-4482-bd65-7f5b635d6391"
      },
      "source": [
        "#Random Forest algorithm\n",
        "from sklearn.ensemble import RandomForestClassifier\n",
        "model5 = RandomForestClassifier(criterion = 'entropy', n_estimators = 20)\n",
        "model5.fit(X_smote,y_smote.fraudRisk)\n",
        "\n",
        "rf_prediction=model5.predict(X_smote)\n",
        "rf_accuracy = metrics.accuracy_score(rf_prediction,y_smote.fraudRisk)\n",
        "print(f'Train Data Accuracy= {rf_accuracy*100:.2f}%')\n",
        "\n",
        "rf_prediction=model5.predict(X_test)\n",
        "rf_accuracy = metrics.accuracy_score(rf_prediction,y_test[[\"fraudRisk\"]])\n",
        "print(f'Test Data Accuracy= {rf_accuracy*100:.2f}%')\n"
      ],
      "execution_count": null,
      "outputs": [
        {
          "output_type": "stream",
          "text": [
            "Train Data Accuracy= 98.86%\n",
            "Test Data Accuracy= 93.90%\n"
          ],
          "name": "stdout"
        }
      ]
    },
    {
      "cell_type": "code",
      "metadata": {
        "id": "yi7twS2wt3LM",
        "colab": {
          "base_uri": "https://localhost:8080/",
          "height": 311
        },
        "outputId": "a3ded20a-4303-43e4-c1d0-29df1155fb52"
      },
      "source": [
        "# confusion matrix of KNN\n",
        "print(\"Test Data Confusion Matrix: \")\n",
        "sns.heatmap(confusion_matrix(y_test[[\"fraudRisk\"]],rf_prediction), annot=True, fmt=\".1f\")"
      ],
      "execution_count": null,
      "outputs": [
        {
          "output_type": "stream",
          "text": [
            "Test Data Confusion Matrix: \n"
          ],
          "name": "stdout"
        },
        {
          "output_type": "execute_result",
          "data": {
            "text/plain": [
              "<matplotlib.axes._subplots.AxesSubplot at 0x7fd636716a10>"
            ]
          },
          "metadata": {
            "tags": []
          },
          "execution_count": 20
        },
        {
          "output_type": "display_data",
          "data": {
            "image/png": "[encoded data removed]",
            "text/plain": [
              "<Figure size 432x288 with 2 Axes>"
            ]
          },
          "metadata": {
            "tags": [],
            "needs_background": "light"
          }
        }
      ]
    },
    {
      "cell_type": "code",
      "metadata": {
        "id": "FWZ_gqXKt3LO",
        "colab": {
          "base_uri": "https://localhost:8080/"
        },
        "outputId": "d0ec02d3-3e07-4f7f-a215-dec805fadbf0"
      },
      "source": [
        "rf_precision = metrics.precision_score(y_test[[\"fraudRisk\"]],rf_prediction)\n",
        "rf_recall = metrics.recall_score(y_test[[\"fraudRisk\"]],rf_prediction)\n",
        "rf_f1score = metrics.f1_score(y_test[[\"fraudRisk\"]],rf_prediction)\n",
        "rf_precision, rf_recall, rf_f1score\n",
        "\n"
      ],
      "execution_count": null,
      "outputs": [
        {
          "output_type": "execute_result",
          "data": {
            "text/plain": [
              "(0.49116184339322005, 0.6247543326782204, 0.5499615406354519)"
            ]
          },
          "metadata": {
            "tags": []
          },
          "execution_count": 21
        }
      ]
    },
    {
      "cell_type": "code",
      "metadata": {
        "id": "fP4VRBHPt3LP",
        "colab": {
          "base_uri": "https://localhost:8080/"
        },
        "outputId": "b5ab59f7-273c-48e5-8fd5-bb3de12fafe7"
      },
      "source": [
        "# save the model to disk\n",
        "filename = '/content/gdrive/My Drive/ML_Credit_Card_Saved_Models/RandomForest.sav'\n",
        "joblib.dump(model5, filename)"
      ],
      "execution_count": null,
      "outputs": [
        {
          "output_type": "execute_result",
          "data": {
            "text/plain": [
              "['/content/gdrive/My Drive/ML_Credit_Card_Saved_Models/RandomForest.sav']"
            ]
          },
          "metadata": {
            "tags": []
          },
          "execution_count": 24
        }
      ]
    },
    {
      "cell_type": "code",
      "metadata": {
        "id": "E92XuuyMKdD4"
      },
      "source": [
        "# rf_prediction=model.predict(X_smote)\n",
        "# rf_prediction1 = metrics.accuracy_score(rf_prediction,y_smote.fraudRisk)\n",
        "# metrics.average_precision_score(y_smote.fraudRisk,rf_prediction)"
      ],
      "execution_count": null,
      "outputs": []
    },
    {
      "cell_type": "markdown",
      "metadata": {
        "id": "XwhSuocMinPK"
      },
      "source": [
        "#### ANN"
      ]
    },
    {
      "cell_type": "code",
      "metadata": {
        "id": "mdU8h1CYinPK"
      },
      "source": [
        "import keras\n",
        "from keras.models import Sequential\n",
        "from keras.layers import Dense, LeakyReLU, PReLU, ELU, Dropout\n",
        "from tensorflow import keras\n",
        "from tensorflow.keras import layers\n"
      ],
      "execution_count": 15,
      "outputs": []
    },
    {
      "cell_type": "code",
      "metadata": {
        "id": "LEQ52tJFinPL"
      },
      "source": [
        "# ANN Model\n",
        "classifier = keras.Sequential()\n",
        "\n",
        "# Input Layer\n",
        "classifier.add(Dense(units = 7, kernel_initializer = 'he_normal', activation = 'relu', input_dim = 7))\n",
        "\n",
        "# hidden layers\n",
        "classifier.add(Dense(units = 10, kernel_initializer = 'he_normal', activation = 'relu'))\n",
        "classifier.add(Dense(units = 25, kernel_initializer = 'he_normal', activation = 'relu'))\n",
        "classifier.add(Dense(units = 20, kernel_initializer = 'he_normal', activation = 'relu'))\n",
        "\n",
        "# Adding the output layer\n",
        "classifier.add(Dense(units = 1, kernel_initializer = 'glorot_uniform', activation = 'sigmoid'))\n",
        "\n",
        "classifier.compile(optimizer = 'adam', loss = 'binary_crossentropy', metrics = ['accuracy'])\n",
        "\n"
      ],
      "execution_count": 16,
      "outputs": []
    },
    {
      "cell_type": "code",
      "metadata": {
        "id": "uKic2GdIinPL",
        "colab": {
          "base_uri": "https://localhost:8080/"
        },
        "outputId": "7724ca6d-c136-4552-97fc-0d6ce503fa9a"
      },
      "source": [
        "classifier.fit(X_smote,y_smote.fraudRisk, validation_split = 0.33, batch_size = 20, epochs = 15)"
      ],
      "execution_count": 17,
      "outputs": [
        {
          "output_type": "stream",
          "text": [
            "Epoch 1/15\n",
            "441067/441067 [==============================] - 785s 2ms/step - loss: 0.2259 - accuracy: 0.9008 - val_loss: 0.4940 - val_accuracy: 0.7723\n",
            "Epoch 2/15\n",
            "441067/441067 [==============================] - 782s 2ms/step - loss: 0.2253 - accuracy: 0.9011 - val_loss: 0.4620 - val_accuracy: 0.8011\n",
            "Epoch 3/15\n",
            "441067/441067 [==============================] - 782s 2ms/step - loss: 0.2255 - accuracy: 0.9011 - val_loss: 0.4784 - val_accuracy: 0.7868\n",
            "Epoch 4/15\n",
            "441067/441067 [==============================] - 796s 2ms/step - loss: 0.2256 - accuracy: 0.9010 - val_loss: 0.4648 - val_accuracy: 0.7978\n",
            "Epoch 5/15\n",
            "441067/441067 [==============================] - 792s 2ms/step - loss: 0.2256 - accuracy: 0.9010 - val_loss: 0.5098 - val_accuracy: 0.7699\n",
            "Epoch 6/15\n",
            "441067/441067 [==============================] - 733s 2ms/step - loss: 0.2256 - accuracy: 0.9010 - val_loss: 0.4704 - val_accuracy: 0.7929\n",
            "Epoch 7/15\n",
            "441067/441067 [==============================] - 786s 2ms/step - loss: 0.2257 - accuracy: 0.9010 - val_loss: 0.4457 - val_accuracy: 0.8057\n",
            "Epoch 8/15\n",
            "441067/441067 [==============================] - 793s 2ms/step - loss: 0.2258 - accuracy: 0.9010 - val_loss: 0.5151 - val_accuracy: 0.7742\n",
            "Epoch 9/15\n",
            "441067/441067 [==============================] - 791s 2ms/step - loss: 0.2258 - accuracy: 0.9010 - val_loss: 0.4544 - val_accuracy: 0.7996\n",
            "Epoch 10/15\n",
            "441067/441067 [==============================] - 730s 2ms/step - loss: 0.2260 - accuracy: 0.9010 - val_loss: 0.4441 - val_accuracy: 0.8081\n",
            "Epoch 11/15\n",
            "441067/441067 [==============================] - 788s 2ms/step - loss: 0.2260 - accuracy: 0.9009 - val_loss: 0.4772 - val_accuracy: 0.7887\n",
            "Epoch 12/15\n",
            "441067/441067 [==============================] - 791s 2ms/step - loss: 0.2259 - accuracy: 0.9009 - val_loss: 0.4796 - val_accuracy: 0.7897\n",
            "Epoch 13/15\n",
            "441067/441067 [==============================] - 734s 2ms/step - loss: 0.2261 - accuracy: 0.9009 - val_loss: 0.4461 - val_accuracy: 0.8003\n",
            "Epoch 14/15\n",
            "441067/441067 [==============================] - 789s 2ms/step - loss: 0.2262 - accuracy: 0.9009 - val_loss: 0.4630 - val_accuracy: 0.7955\n",
            "Epoch 15/15\n",
            "441067/441067 [==============================] - 797s 2ms/step - loss: 0.2259 - accuracy: 0.9009 - val_loss: 0.4201 - val_accuracy: 0.8199\n"
          ],
          "name": "stdout"
        },
        {
          "output_type": "execute_result",
          "data": {
            "text/plain": [
              "<tensorflow.python.keras.callbacks.History at 0x7fddd7be5a10>"
            ]
          },
          "metadata": {
            "tags": []
          },
          "execution_count": 17
        }
      ]
    },
    {
      "cell_type": "code",
      "metadata": {
        "id": "NxKgJj4wI_Y_",
        "colab": {
          "base_uri": "https://localhost:8080/"
        },
        "outputId": "712e029c-0a42-43bf-8f9d-7e5546d5a59a"
      },
      "source": [
        "classifier.summary()"
      ],
      "execution_count": 18,
      "outputs": [
        {
          "output_type": "stream",
          "text": [
            "Model: \"sequential\"\n",
            "_________________________________________________________________\n",
            "Layer (type)                 Output Shape              Param #   \n",
            "=================================================================\n",
            "module_wrapper (ModuleWrappe (20, 7)                   56        \n",
            "_________________________________________________________________\n",
            "module_wrapper_1 (ModuleWrap (20, 10)                  80        \n",
            "_________________________________________________________________\n",
            "module_wrapper_2 (ModuleWrap (20, 25)                  275       \n",
            "_________________________________________________________________\n",
            "module_wrapper_3 (ModuleWrap (20, 20)                  520       \n",
            "_________________________________________________________________\n",
            "module_wrapper_4 (ModuleWrap (20, 1)                   21        \n",
            "=================================================================\n",
            "Total params: 952\n",
            "Trainable params: 952\n",
            "Non-trainable params: 0\n",
            "_________________________________________________________________\n"
          ],
          "name": "stdout"
        }
      ]
    },
    {
      "cell_type": "code",
      "metadata": {
        "id": "jyOctPz7inPL",
        "colab": {
          "base_uri": "https://localhost:8080/"
        },
        "outputId": "9317aa7e-7d7a-4825-b3d4-a6944a68b030"
      },
      "source": [
        "\n",
        "y_pred = classifier.predict(X_test)\n",
        "y_pred = (y_pred > 0.5)\n",
        "\n",
        "ANN_pred = pd.DataFrame(y_pred, columns = ['fraudRisk'])\n",
        "ANN_pred.loc[ANN_pred.fraudRisk == True, 'fraudRisk 01'] = 1\n",
        "ANN_pred.loc[ANN_pred.fraudRisk == False, 'fraudRisk 01'] = 0\n",
        "ANN_pred['fraudRisk 01'] = ANN_pred['fraudRisk 01'].astype(np.int64)\n",
        "ANN_pred = ANN_pred.drop(\"fraudRisk\", axis=1)\n",
        "ann_accuracy = metrics.accuracy_score(ANN_pred[['fraudRisk 01']],y_test[[\"fraudRisk\"]])\n",
        "print(f'Accuracy= {ann_accuracy*100:.2f}%')"
      ],
      "execution_count": 22,
      "outputs": [
        {
          "output_type": "stream",
          "text": [
            "Accuracy= 92.08%\n"
          ],
          "name": "stdout"
        }
      ]
    },
    {
      "cell_type": "code",
      "metadata": {
        "colab": {
          "base_uri": "https://localhost:8080/"
        },
        "id": "JgjjWxushDYJ",
        "outputId": "5042f0f8-ad9c-4469-d409-bbacb8e45a8b"
      },
      "source": [
        "from keras.models import load_model\n",
        "\n",
        "classifier.save(\"/content/gdrive/My Drive/ML_Credit_Card_Saved_Models/ANN\", overwrite=True)"
      ],
      "execution_count": 27,
      "outputs": [
        {
          "output_type": "stream",
          "text": [
            "WARNING:absl:Found untraced functions such as dense_layer_call_fn, dense_layer_call_and_return_conditional_losses, dense_1_layer_call_fn, dense_1_layer_call_and_return_conditional_losses, dense_2_layer_call_fn while saving (showing 5 of 25). These functions will not be directly callable after loading.\n"
          ],
          "name": "stderr"
        },
        {
          "output_type": "stream",
          "text": [
            "INFO:tensorflow:Assets written to: /content/gdrive/My Drive/ML_Credit_Card_Saved_Models/ANN/assets\n"
          ],
          "name": "stdout"
        },
        {
          "output_type": "stream",
          "text": [
            "INFO:tensorflow:Assets written to: /content/gdrive/My Drive/ML_Credit_Card_Saved_Models/ANN/assets\n"
          ],
          "name": "stderr"
        }
      ]
    },
    {
      "cell_type": "code",
      "metadata": {
        "id": "92LyYOV0jzT_"
      },
      "source": [
        "filename = '/content/gdrive/My Drive/ML_Credit_Card_Saved_Models/ANN.sav'\n",
        "from tensorflow import keras\n",
        "model = keras.models.load_model(filename)"
      ],
      "execution_count": 15,
      "outputs": []
    },
    {
      "cell_type": "code",
      "metadata": {
        "colab": {
          "base_uri": "https://localhost:8080/"
        },
        "id": "LrYxc35UnMiU",
        "outputId": "dcc463b6-eee2-40e5-f234-4e772a165704"
      },
      "source": [
        "ann_precision = metrics.precision_score(y_test[[\"fraudRisk\"]],ANN_pred[['fraudRisk 01']])\n",
        "ann_recall = metrics.recall_score(y_test[[\"fraudRisk\"]],ANN_pred[['fraudRisk 01']])\n",
        "ann_f1score = metrics.f1_score(y_test[[\"fraudRisk\"]],ANN_pred[['fraudRisk 01']])\n",
        "ann_precision, ann_recall, ann_f1score"
      ],
      "execution_count": 32,
      "outputs": [
        {
          "output_type": "execute_result",
          "data": {
            "text/plain": [
              "(0.41682115439294853, 0.8184965159907093, 0.5523545414126495)"
            ]
          },
          "metadata": {
            "tags": []
          },
          "execution_count": 32
        }
      ]
    },
    {
      "cell_type": "code",
      "metadata": {
        "id": "2avHudKHoEox"
      },
      "source": [
        "rf = joblib.load('/content/gdrive/My Drive/ML_Credit_Card_Saved_Models/RandomForest.sav')\n",
        "rf_prediction = rf.predict(X_test)\n",
        "sgd = joblib.load('/content/gdrive/My Drive/ML_Credit_Card_Saved_Models/SGD.sav')\n",
        "sgd_prediction = sgd.predict(X_test)\n",
        "lr = joblib.load('/content/gdrive/My Drive/ML_Credit_Card_Saved_Models/LogisticReg.sav')\n",
        "lr_prediction = lr.predict(X_test)\n",
        "dt = joblib.load('/content/gdrive/My Drive/ML_Credit_Card_Saved_Models/DecisionTree.sav')\n",
        "dt_prediction = dt.predict(X_test)\n",
        "nb = joblib.load('/content/gdrive/My Drive/ML_Credit_Card_Saved_Models/NaiveBayes.sav')\n",
        "nb_prediction = nb.predict(X_test)\n"
      ],
      "execution_count": 19,
      "outputs": []
    },
    {
      "cell_type": "markdown",
      "metadata": {
        "id": "Tw6D-EH2inPM"
      },
      "source": [
        "# Plotting"
      ]
    },
    {
      "cell_type": "code",
      "metadata": {
        "id": "Srj4xhWKinPM",
        "colab": {
          "base_uri": "https://localhost:8080/",
          "height": 404
        },
        "outputId": "773faed0-fa08-4ecc-9db3-1d0861f73046"
      },
      "source": [
        "# Precision-Recall Curve\n",
        "LR_precision1, LR_recall1, _ = precision_recall_curve(lr_prediction, np.array(y_test[\"fraudRisk\"])) # precision, recall, threshold\n",
        "nb_precision1, nb_recall1, _ = precision_recall_curve(nb_prediction, np.array(y_test[\"fraudRisk\"]))\n",
        "sgd_precision1, sgd_recall1, _ = precision_recall_curve(sgd_prediction, np.array(y_test[\"fraudRisk\"]))\n",
        "ann_precision1, ann_recall1, _ = precision_recall_curve(ANN_pred[['fraudRisk 01']], np.array(y_test[\"fraudRisk\"]))\n",
        "dt_precision1, dt_recall1, _ = precision_recall_curve(dt_prediction, np.array(y_test[\"fraudRisk\"]))\n",
        "rf_precision1, rf_recall1, _ = precision_recall_curve(rf_prediction, np.array(y_test[\"fraudRisk\"]))\n",
        "\n",
        "plt.figure(figsize=(15,6))\n",
        "plt.plot(LR_recall1, LR_precision1, color='orange', label='Logistic Reg')\n",
        "plt.plot(nb_recall1, nb_precision1, color='green', label='Naive Bayes')\n",
        "plt.plot(sgd_recall1, sgd_precision1, color='red', label='SGD Classifier')\n",
        "plt.plot(ann_recall1, ann_precision1, color='blue', label='ANN')\n",
        "plt.plot(dt_recall1, dt_precision1, color='black', label='Decision Tree')\n",
        "plt.plot(rf_recall1, rf_precision1, color='yellow', label='Random Forest')\n",
        "plt.xlabel('Recall')\n",
        "plt.ylabel('Precision')\n",
        "plt.title('Precision-Recall curve')\n",
        "plt.legend()\n",
        "plt.show()\n",
        "\n",
        "\n",
        "# Sensitivity(Recall) is a measure of the proportion of actual positive cases that got predicted as positive (or true positive).\n",
        "# Precision is the ratio of correctly predicted positive observations to the total predicted positive observations.\n"
      ],
      "execution_count": 20,
      "outputs": [
        {
          "output_type": "display_data",
          "data": {
            "image/png": "[encoded data removed]",
            "text/plain": [
              "<Figure size 1080x432 with 1 Axes>"
            ]
          },
          "metadata": {
            "tags": [],
            "needs_background": "light"
          }
        }
      ]
    },
    {
      "cell_type": "code",
      "metadata": {
        "id": "q1raiK4QApw5",
        "colab": {
          "base_uri": "https://localhost:8080/",
          "height": 345
        },
        "outputId": "893ee424-902f-4121-94e6-786882aeb89e"
      },
      "source": [
        "# Accuracy of All Models\n",
        "plt.bar(['Logistic', 'Naive Bayes', 'SGDClassifier', 'ANN', 'Decision Tee', 'Random Forest'], [lr_accuracy, nb_accuracy, sgd_accuracy, ann_accuracy, dt_accuracy, rf_accuracy], color=['black', 'red', 'green', 'blue', 'cyan', 'orange'])\n",
        "plt.title('Accuracy of All Models')\n",
        "plt.xlabel('Models')\n",
        "plt.ylabel('Accuracy')\n",
        "plt.xticks(rotation=45)\n",
        "plt.show()"
      ],
      "execution_count": 36,
      "outputs": [
        {
          "output_type": "display_data",
          "data": {
            "image/png": "[encoded data removed]",
            "text/plain": [
              "<Figure size 432x288 with 1 Axes>"
            ]
          },
          "metadata": {
            "tags": [],
            "needs_background": "light"
          }
        }
      ]
    },
    {
      "cell_type": "code",
      "metadata": {
        "id": "5CxbYe1kApw5",
        "colab": {
          "base_uri": "https://localhost:8080/",
          "height": 345
        },
        "outputId": "2b93d170-1c81-455f-da42-b22dea77d140"
      },
      "source": [
        "# Plotting F1 Score\n",
        "plt.bar(['Logistic', 'Naive Bayes', 'SGDClassifier', 'ANN', 'Decision Tee', 'Random Forest'], [lr_f1score, nb_f1score, sgd_f1score, ann_f1score, dt_f1score, rf_f1score], color=['black', 'red', 'green', 'blue', 'cyan', 'orange'])\n",
        "plt.title('F1 Score of all Models')\n",
        "plt.xlabel('Models')\n",
        "plt.ylabel('F1 score')\n",
        "plt.xticks(rotation=45)\n",
        "plt.show()"
      ],
      "execution_count": 37,
      "outputs": [
        {
          "output_type": "display_data",
          "data": {
            "image/png": "[encoded data removed]",
            "text/plain": [
              "<Figure size 432x288 with 1 Axes>"
            ]
          },
          "metadata": {
            "tags": [],
            "needs_background": "light"
          }
        }
      ]
    },
    {
      "cell_type": "code",
      "metadata": {
        "id": "0F2qbA2_Apw6",
        "colab": {
          "base_uri": "https://localhost:8080/",
          "height": 345
        },
        "outputId": "1819ddd0-764d-4e6c-e5bd-c627030e7106"
      },
      "source": [
        "# Plotting Sensitivity or Recall\n",
        "plt.bar(['Logistic', 'Naive Bayes', 'SGDClassifier', 'ANN', 'Decision Tee', 'Random Forest'], [lr_recall, nb_recall, sgd_recall, ann_recall, dt_recall, rf_recall], color=['black', 'red', 'green', 'blue', 'cyan', 'orange'])\n",
        "plt.title('Sensitivity or Recall of All Models ')\n",
        "plt.xlabel('Models')\n",
        "plt.ylabel('Recall score')\n",
        "plt.xticks(rotation=45)\n",
        "plt.show()"
      ],
      "execution_count": 38,
      "outputs": [
        {
          "output_type": "display_data",
          "data": {
            "image/png": "[encoded data removed]",
            "text/plain": [
              "<Figure size 432x288 with 1 Axes>"
            ]
          },
          "metadata": {
            "tags": [],
            "needs_background": "light"
          }
        }
      ]
    },
    {
      "cell_type": "code",
      "metadata": {
        "id": "mI_lfm7RApw6",
        "colab": {
          "base_uri": "https://localhost:8080/",
          "height": 345
        },
        "outputId": "284e0be9-77f5-41cc-d5bc-b9176b2279ba"
      },
      "source": [
        "# Plotting Precision\n",
        "plt.bar(['Logistic', 'Naive Bayes', 'SGDClassifier', 'ANN', 'Decision Tee', 'Random Forest'], [lr_precision, nb_precision, sgd_precision, ann_precision, dt_precision, rf_precision], color=['black', 'red', 'green', 'blue', 'cyan', 'orange'])\n",
        "plt.title('Precision of All Models ')\n",
        "plt.xlabel('Models')\n",
        "plt.ylabel('Precision score')\n",
        "plt.xticks(rotation=45)\n",
        "plt.show()"
      ],
      "execution_count": 39,
      "outputs": [
        {
          "output_type": "display_data",
          "data": {
            "image/png": "[encoded data removed]",
            "text/plain": [
              "<Figure size 432x288 with 1 Axes>"
            ]
          },
          "metadata": {
            "tags": [],
            "needs_background": "light"
          }
        }
      ]
    },
    {
      "cell_type": "code",
      "metadata": {
        "id": "7WjyWOCntQtt"
      },
      "source": [
        ""
      ],
      "execution_count": null,
      "outputs": []
    }
  ]
}